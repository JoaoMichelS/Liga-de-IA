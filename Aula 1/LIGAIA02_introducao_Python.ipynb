{
  "cells": [
    {
      "cell_type": "markdown",
      "metadata": {
        "id": "Mivpv1rGNPn1"
      },
      "source": [
        "# <center>Centro Universitário Facens<br/></center>\n",
        "<center>\n",
        "<img src=\"https://lh4.googleusercontent.com/AsgtrT2BZGQTFAeXl4TCXZuMjWnstvzfktjcTyYbPpwgY72a0kOyuh3ZLUVFcWLPBQYfX002B-X8a9sK_iTJSNMh26pFYniAjwir4sAyPPObSRSMitOHd8WyYc46Vfts-A=w1280\"/> \n",
        "</center>\n",
        "  \n",
        "<font size=\"3\"><center>Prof. Renato Moraes Silva</center></font>\n",
        "<br/>"
      ]
    },
    {
      "cell_type": "markdown",
      "metadata": {
        "id": "rRsoZTQuNPn_"
      },
      "source": [
        "# <center>Introdução ao Python</center>\n",
        "\n",
        "Neste tutorial, são apresentados alguns recursos básicos do Python que geralmente são necessários nos projetos de Ciência de Dados. \n",
        "\n",
        "Para isso, estamos usando um notebook, onde é possível adicionar blocos de texto e código. Os blocos de texto podem ser adicionados usando *markdown*, HTML e LaTeX. Por exemplo, abaixo foi criada uma equação em LaTeX:   \n",
        "\n",
        "$$ \\sum_{i=1}^{n} x_i - y_i^2 $$"
      ]
    },
    {
      "cell_type": "markdown",
      "metadata": {
        "id": "mYAq3Bz3NPoD"
      },
      "source": [
        "# Variáveis\n",
        "\n",
        "No Python, não é preciso **declarar** as variáveis.\n",
        "\n",
        "Os tipos básicos de variáveis são:\n",
        "- int: números inteiros\n",
        "- float: números reais\n",
        "- str: textos\n",
        "\n",
        "Para converter um tipo de variável para outro, pode-se usar as funções: **float**, **str** ou **int**. \n",
        "\n",
        "Para imprimir uma variável, basta usar **print (nome_variavel)** ou **display(nome_variavel)**. A segunda opção geralmente apresenta a impressão de uma maneira mais agradável visualmente. "
      ]
    },
    {
      "cell_type": "code",
      "execution_count": null,
      "metadata": {
        "id": "kUOGfMhvNPoF",
        "outputId": "60ba7032-b509-41f7-c58e-3d330d443189",
        "colab": {
          "base_uri": "https://localhost:8080/",
          "height": 86
        }
      },
      "outputs": [
        {
          "output_type": "stream",
          "name": "stdout",
          "text": [
            "Andressa\n",
            "1200\n"
          ]
        },
        {
          "output_type": "display_data",
          "data": {
            "text/plain": [
              "1200"
            ]
          },
          "metadata": {}
        },
        {
          "output_type": "stream",
          "name": "stdout",
          "text": [
            "20\n"
          ]
        }
      ],
      "source": [
        "nome = \"Andressa\"\n",
        "idade = 19\n",
        "salario = 1200\n",
        "\n",
        "salario2 = \"20\"\n",
        "salario2 = int(salario2)\n",
        "\n",
        "valor = 200\n",
        "valor = str(valor)\n",
        "\n",
        "print(nome)\n",
        "print(salario)\n",
        "display(salario)\n",
        "print(salario2)"
      ]
    },
    {
      "cell_type": "markdown",
      "metadata": {
        "id": "y0sZXSuKNPoH"
      },
      "source": [
        "# Bibliotecas\n",
        "\n",
        "O Python possui inúmeras bibliotecas disponibilizadas na distribuição padrão e também pela comunidade. Quando uma biblioteca não está disponível na distribuição padrão do Python, geralmente para instalá-la deve-se usar o comando: **pip install nomeDaBiblioteca\". \n",
        "\n",
        "Para importar um biblioteca que já esteja instalada, pode-se usar: ```import nomeDaBibioteca as apelido```\n",
        "\n",
        "### Matplotlib e Numpy\n",
        "\n",
        "A biblioteca **matplotlib** é usada para plotar gráficos. Para usá-la, geralmente é feita a importação usando: ```import matplotlib.pyplot as plt```. \n",
        "\n",
        "A biblioteca **numpy** do python permite a criação, manipulações e operações matemáticas de vetores e matrizes.\n",
        "\n",
        "### Criando vetores e matrizes\n",
        "\n",
        "Criando um vetor com os seguintes valores $[0,1,4,9,16,25,36,49,64]]$."
      ]
    },
    {
      "cell_type": "code",
      "execution_count": null,
      "metadata": {
        "id": "1TtbhYRfNPoI",
        "outputId": "5da54253-c10b-49ef-f2f0-5d365ae9e0ba",
        "colab": {
          "base_uri": "https://localhost:8080/",
          "height": 465
        }
      },
      "outputs": [
        {
          "output_type": "stream",
          "name": "stdout",
          "text": [
            "[ 0  1  4  9 16 25 36 49 64]\n"
          ]
        },
        {
          "output_type": "execute_result",
          "data": {
            "text/plain": [
              "<function matplotlib.pyplot.show(close=None, block=None)>"
            ]
          },
          "metadata": {},
          "execution_count": 2
        },
        {
          "output_type": "display_data",
          "data": {
            "text/plain": [
              "<Figure size 640x480 with 1 Axes>"
            ],
            "image/png": "[encoded data removed]"
          },
          "metadata": {}
        }
      ],
      "source": [
        "#!pip install nomedaBiblioteca\n",
        "\n",
        "import numpy as np\n",
        "import matplotlib.pyplot as plt\n",
        "\n",
        "vetor1 = np.array([0, 1, 4, 9, 16, 25, 36, 49, 64])\n",
        "\n",
        "print(vetor1)\n",
        "\n",
        "plt.plot(vetor1)  #grafico\n",
        "plt.show"
      ]
    },
    {
      "cell_type": "markdown",
      "metadata": {
        "id": "MGNRXwTzNPoJ"
      },
      "source": [
        "Criando uma matriz com os valores: $\n",
        "  \\begin{bmatrix}\n",
        "    0 & 0 & 0 & 0 & 0\\\\\n",
        "    0 & 250 & 0 & 255 & 0\\\\\n",
        "    0 & 0 & 0 & 0 & 0\\\\\n",
        "    0 & 255 & 240 & 245 & 0\\\\\n",
        "    0 & 0 & 0 & 0 & 0 \\\\\n",
        "  \\end{bmatrix}$"
      ]
    },
    {
      "cell_type": "code",
      "execution_count": null,
      "metadata": {
        "id": "i_zTlmfDNPoK",
        "outputId": "6a310f65-9053-4826-c0c8-7bd077f015fe",
        "colab": {
          "base_uri": "https://localhost:8080/",
          "height": 534
        }
      },
      "outputs": [
        {
          "output_type": "display_data",
          "data": {
            "text/plain": [
              "array([[  0,   0,   0,   0,   0],\n",
              "       [  0, 250,   0, 250,   0],\n",
              "       [  0,   0,   0,   0,   0],\n",
              "       [  0, 255, 240, 245,   0],\n",
              "       [  0,   0,   0,   0,   0]])"
            ]
          },
          "metadata": {}
        },
        {
          "output_type": "execute_result",
          "data": {
            "text/plain": [
              "<matplotlib.image.AxesImage at 0x7f27d0220c70>"
            ]
          },
          "metadata": {},
          "execution_count": 3
        },
        {
          "output_type": "display_data",
          "data": {
            "text/plain": [
              "<Figure size 640x480 with 1 Axes>"
            ],
            "image/png": "[encoded data removed]"
          },
          "metadata": {}
        }
      ],
      "source": [
        "matriz = np.array([[0,0,0,0,0],\n",
        "                  [0,250,0,250,0],\n",
        "                  [0,0,0,0,0],\n",
        "                  [0,255,240,245,0],\n",
        "                  [0,0,0,0,0]])\n",
        "\n",
        "display(matriz)\n",
        "\n",
        "plt.imshow(matriz, \"gray\")\n",
        "#plt.show()"
      ]
    },
    {
      "cell_type": "markdown",
      "metadata": {
        "id": "Zmd4SwLsNPoK"
      },
      "source": [
        "## Selecionando elementos de vetores \n",
        "\n",
        "\n",
        "Suponha que temos um vetor $[a,b,c,d,e,f,g,h,i]$. Nós podemos selecionar vários subconjuntos de elementos desse vetor, como: \n",
        "\n",
        "- três primeiros elementos\n",
        "- todos os valores após o quinto elemento\n",
        "- os três ultimos valores\n",
        "- os valores entre o quinta elemento até o penúltimo elemento\n",
        "\n",
        "**Observação**: no python, o índice começa a contar em 0."
      ]
    },
    {
      "cell_type": "code",
      "execution_count": null,
      "metadata": {
        "id": "hrTQDe8XNPoM",
        "outputId": "d118bf92-7682-46c3-f04f-24ebfdab0dab",
        "colab": {
          "base_uri": "https://localhost:8080/"
        }
      },
      "outputs": [
        {
          "output_type": "stream",
          "name": "stdout",
          "text": [
            "[ 0  1  4  9 16 25 36 49 64]\n",
            "25\n",
            "[ 9 16 25 36]\n"
          ]
        }
      ],
      "source": [
        "print(vetor1)\n",
        "print(vetor1 [5])\n",
        "\n",
        "quatro = vetor1[3:7]\n",
        "print(quatro)"
      ]
    },
    {
      "cell_type": "markdown",
      "metadata": {
        "id": "cdqbeeyjNPoM"
      },
      "source": [
        "## Operações com números\n",
        "\n",
        " - Soma: +\n",
        " - Subtração - \n",
        " - Multiplicação: *\n",
        " - Divisão: /\n",
        " - Resto da divisão: %\n",
        " - Exponenciação: **\n",
        " - Raiz quadrada: use a função *sqrt()* da biblioteca numpy: ```np.sqrt(valor)```"
      ]
    },
    {
      "cell_type": "code",
      "execution_count": null,
      "metadata": {
        "id": "95BNWS58NPoN",
        "outputId": "fea96e5a-03b3-4e35-895e-9a4cf9855f66",
        "colab": {
          "base_uri": "https://localhost:8080/"
        }
      },
      "outputs": [
        {
          "output_type": "stream",
          "name": "stdout",
          "text": [
            "Soma:  9\n",
            "[10 11 14 19 26 35 46 59 74]\n",
            "[ 0.   0.5  2.   4.5  8.  12.5 18.  24.5 32. ]\n",
            "[0. 1. 2. 3. 4. 5. 6. 7. 8.]\n"
          ]
        }
      ],
      "source": [
        "soma = 4 + 5\n",
        "print(\"Soma: \", soma)\n",
        "\n",
        "somaVetor = vetor1 + 10\n",
        "divisaoVetor = vetor1 / 2\n",
        "raiz = np.sqrt(vetor1)\n",
        "\n",
        "print(somaVetor)\n",
        "print(divisaoVetor)\n",
        "print(raiz)"
      ]
    },
    {
      "cell_type": "markdown",
      "metadata": {
        "tags": [],
        "id": "bhqG_ELvNPoN"
      },
      "source": [
        "## Criando vetores e matrizes de 0 ou 1.\n",
        "\n",
        "Nós também podemos criar vetores e matrizes de valores zero e uma matriz de valores um."
      ]
    },
    {
      "cell_type": "code",
      "execution_count": null,
      "metadata": {
        "id": "BX38N1GPNPoN",
        "outputId": "65aacda6-5d2e-4322-aba7-f83f96d5751d",
        "colab": {
          "base_uri": "https://localhost:8080/"
        }
      },
      "outputs": [
        {
          "output_type": "stream",
          "name": "stdout",
          "text": [
            "[0. 0. 0. 0. 0. 0. 0. 0. 0. 0.]\n",
            "[1. 1. 1. 1. 1. 1. 1. 1. 1. 1.]\n"
          ]
        }
      ],
      "source": [
        "vetor2 = np.zeros([10])\n",
        "vetor3 = np.ones([10])\n",
        "\n",
        "print(vetor2)\n",
        "print(vetor3)"
      ]
    },
    {
      "cell_type": "markdown",
      "metadata": {
        "id": "VsPI5KxANPoN"
      },
      "source": [
        "## Estruturas de decisão\n",
        "\n",
        "Criando operações condicionais: if e else."
      ]
    },
    {
      "cell_type": "code",
      "execution_count": null,
      "metadata": {
        "id": "2c99N97vNPoN",
        "outputId": "ab48ba39-0b3b-451d-9ac0-fc6e521f497e",
        "colab": {
          "base_uri": "https://localhost:8080/"
        }
      },
      "outputs": [
        {
          "output_type": "stream",
          "name": "stdout",
          "text": [
            "Esta entre 0 e 10\n"
          ]
        }
      ],
      "source": [
        "#Verifica se o primeiro elemento do vetor é maior que zero\n",
        "\n",
        "if vetor1[1] <= 0:\n",
        "  print(\"Menor ou igual a 0\")\n",
        "elif vetor1[1] > 0 and vetor1[1] < 10:\n",
        "  print(\"Esta entre 0 e 10\")\n",
        "else:\n",
        "  print(\"Maior que 0\")"
      ]
    },
    {
      "cell_type": "markdown",
      "metadata": {
        "id": "DL5ihWFwNPoO"
      },
      "source": [
        "## Laço de repetição *for*"
      ]
    },
    {
      "cell_type": "code",
      "execution_count": null,
      "metadata": {
        "id": "1o6hGDrRNPoP",
        "outputId": "0157546e-88e8-496b-cb65-85425e57cbb3",
        "colab": {
          "base_uri": "https://localhost:8080/"
        }
      },
      "outputs": [
        {
          "output_type": "stream",
          "name": "stdout",
          "text": [
            "Quadrado de  0 : 0\n",
            "Quadrado de  1 : 1\n",
            "Quadrado de  4 : 16\n",
            "Quadrado de  9 : 81\n",
            "Quadrado de  16 : 256\n",
            "Quadrado de  25 : 625\n",
            "Quadrado de  36 : 1296\n",
            "Quadrado de  49 : 2401\n",
            "Quadrado de  64 : 4096\n"
          ]
        }
      ],
      "source": [
        "tam = len(vetor1)\n",
        "\n",
        "for i in range(tam):\n",
        "  quadrado = vetor1[i]**2\n",
        "  print(\"Quadrado de \", vetor1[i], \":\", quadrado)"
      ]
    },
    {
      "cell_type": "markdown",
      "metadata": {
        "id": "Eoq154jyNPoP"
      },
      "source": [
        "## Laço de repetição *while*"
      ]
    },
    {
      "cell_type": "code",
      "execution_count": null,
      "metadata": {
        "id": "8mOQ-rlnNPoP",
        "outputId": "f8954bd5-7367-426b-fc7f-6db604a17b4b",
        "colab": {
          "base_uri": "https://localhost:8080/"
        }
      },
      "outputs": [
        {
          "output_type": "stream",
          "name": "stdout",
          "text": [
            "Quadrado de:  0 : 0\n",
            "Quadrado de:  1 : 1\n",
            "Quadrado de:  4 : 16\n",
            "Quadrado de:  9 : 81\n",
            "Quadrado de:  16 : 256\n",
            "Quadrado de:  25 : 625\n",
            "Quadrado de:  36 : 1296\n",
            "Quadrado de:  49 : 2401\n",
            "Quadrado de:  64 : 4096\n",
            "Acabou!\n"
          ]
        }
      ],
      "source": [
        "i = 0\n",
        "while i<tam:\n",
        "  quadrado = vetor1[i]**2\n",
        "  print(\"Quadrado de: \", vetor1[i], \":\", quadrado)\n",
        "\n",
        "  i+=1\n",
        "\n",
        "print(\"Acabou!\")"
      ]
    },
    {
      "cell_type": "markdown",
      "metadata": {
        "id": "vFDC9ndqNPoQ"
      },
      "source": [
        "## Funções"
      ]
    },
    {
      "cell_type": "code",
      "execution_count": null,
      "metadata": {
        "id": "LVm6DR9QNPoQ",
        "outputId": "87e9810c-403f-4a13-e0eb-dab31c8250af",
        "colab": {
          "base_uri": "https://localhost:8080/"
        }
      },
      "outputs": [
        {
          "output_type": "stream",
          "name": "stdout",
          "text": [
            "9\n",
            "Soma:  204\n"
          ]
        }
      ],
      "source": [
        "def getIdx(vetor, idx):\n",
        "  elemento = vetor[idx]\n",
        "  return elemento\n",
        "\n",
        "def soma(vetor):\n",
        "  resultado = 0\n",
        "  tam = len(vetor)\n",
        "\n",
        "  for i in range(tam):\n",
        "    resultado = resultado + vetor1[i]\n",
        "    \n",
        "  return resultado\n",
        "\n",
        "#Chama a função criada\n",
        "valor = getIdx(vetor1, 3)\n",
        "print(valor)\n",
        "\n",
        "res = soma(vetor1)\n",
        "print(\"Soma: \", res)"
      ]
    },
    {
      "cell_type": "markdown",
      "metadata": {
        "id": "HxPTh1oZNPoQ"
      },
      "source": [
        "## Operações básicas com vetores e matrizes\n",
        "\n",
        "Soma e subtração entre vetores."
      ]
    },
    {
      "cell_type": "code",
      "execution_count": null,
      "metadata": {
        "id": "M1DmIHi6NPoR",
        "outputId": "00fb6b37-44e1-4be2-a0d2-60fa69c853b5",
        "colab": {
          "base_uri": "https://localhost:8080/",
          "height": 191
        }
      },
      "outputs": [
        {
          "output_type": "display_data",
          "data": {
            "text/plain": [
              "array([[  0,   0,   0,   0,   0],\n",
              "       [  0, 500,   0, 500,   0],\n",
              "       [  0,   0,   0,   0,   0],\n",
              "       [  0, 510, 480, 490,   0],\n",
              "       [  0,   0,   0,   0,   0]])"
            ]
          },
          "metadata": {}
        },
        {
          "output_type": "stream",
          "name": "stdout",
          "text": [
            "[[    0     0     0     0     0]\n",
            " [    0 62500     0 62500     0]\n",
            " [    0     0     0     0     0]\n",
            " [    0 65025 57600 60025     0]\n",
            " [    0     0     0     0     0]]\n"
          ]
        }
      ],
      "source": [
        "matriz1 = np.array([[0,0,0,0,0],\n",
        "                  [0,250,0,250,0],\n",
        "                  [0,0,0,0,0],\n",
        "                  [0,255,240,245,0],\n",
        "                  [0,0,0,0,0]])\n",
        "\n",
        "matriz2 = np.array([[0,0,0,0,0],\n",
        "                  [0,250,0,250,0],\n",
        "                  [0,0,0,0,0],\n",
        "                  [0,255,240,245,0],\n",
        "                  [0,0,0,0,0]])\n",
        "\n",
        "soma = matriz1 + matriz2\n",
        "multiplicacao = matriz1 * matriz2\n",
        "\n",
        "display(soma)\n",
        "print(multiplicacao)"
      ]
    },
    {
      "cell_type": "markdown",
      "metadata": {
        "id": "ZvZhGg4ANPoR"
      },
      "source": [
        "Produto entre duas matrizes.\n",
        "\n",
        "Obs.: para isso ser possível, a quantidade de colunas da primeira, deve ser igual a quantidade de linhas da segunda"
      ]
    },
    {
      "cell_type": "code",
      "execution_count": null,
      "metadata": {
        "id": "EJykwRriNPoR"
      },
      "outputs": [],
      "source": [
        "mult = np.dot(matriz1, matriz2)"
      ]
    },
    {
      "cell_type": "markdown",
      "metadata": {
        "id": "2Fz6AJW1NPoS"
      },
      "source": [
        "Média dos valores de uma matriz."
      ]
    },
    {
      "cell_type": "code",
      "execution_count": null,
      "metadata": {
        "id": "aQ8iAUwaNPoS",
        "outputId": "b1fdc8e2-a651-4542-f936-e2247a4afc24",
        "colab": {
          "base_uri": "https://localhost:8080/"
        }
      },
      "outputs": [
        {
          "output_type": "stream",
          "name": "stdout",
          "text": [
            "49.6\n",
            "[  0. 101.  48.  99.   0.]\n",
            "[  0. 100.   0. 148.   0.]\n"
          ]
        }
      ],
      "source": [
        "media = np.mean(matriz)\n",
        "print(media)\n",
        "\n",
        "mediaLinhas = np.mean(matriz, axis = 0)\n",
        "print(mediaLinhas)\n",
        "\n",
        "mediaColunas = np.mean(matriz, axis = 1)\n",
        "print(mediaColunas)"
      ]
    },
    {
      "cell_type": "markdown",
      "metadata": {
        "id": "w7lpsw54NPoS"
      },
      "source": [
        "Desvio padrão dos valores de uma matriz."
      ]
    },
    {
      "cell_type": "code",
      "execution_count": null,
      "metadata": {
        "id": "sBRxjQrANPoS"
      },
      "outputs": [],
      "source": []
    },
    {
      "cell_type": "markdown",
      "metadata": {
        "id": "S1kQWz2UNPoT"
      },
      "source": [
        "Outras funções para vetores e matrizes.\n",
        "* `np.min()` &rarr; valor mínimo\n",
        "* `np.max()` &rarr; valor máximo\n",
        "* `np.sort(A)` &rarr; retorna o vetor $A$ ordenado\n",
        "* `np.argsort(A)` &rarr; retorna os índices do vetor $A$ ordenado\n",
        "* `np.var()` &rarr; variância\n",
        "* `np.shape()` &rarr; dimensões da matriz\n",
        "* `np.transpose()` &rarr; transposta da matriz\n",
        "* `np.concatenate(arrays, axis=numero_do_eixo)` &rarr; concatena vetores ou matrizes\n",
        "* `vstack(A,B)` &rarr; empilha verticalmente\n",
        "* `hstack(A,B)` &rarr; empilha horizontalmente\n",
        "* `np.where(A>n)` &rarr; elementos em $A$ maiores que $n$"
      ]
    },
    {
      "cell_type": "code",
      "execution_count": null,
      "metadata": {
        "id": "Z6UbpjmQNPoT"
      },
      "outputs": [],
      "source": []
    },
    {
      "cell_type": "markdown",
      "metadata": {
        "id": "tRkTgpDINPoU"
      },
      "source": [
        "## Exercícios\n",
        "\n",
        "**Ex. 1**. Crie duas matrizes com os nomes $ExA$ e $ExB$ preenchidas com os seguintes valores:\n",
        "\n",
        "$ExA = \\begin{bmatrix}\n",
        "    12 & 9 & 4 & 1 \\\\\n",
        "    11 & 5 & 8 & 1 \\\\\n",
        "    1 & 2 & 3 & 1 \\\\\n",
        "  \\end{bmatrix}\n",
        "$, \n",
        "$\n",
        "ExB = \\begin{bmatrix}\n",
        "    1 & 5 \\\\\n",
        "    1 & 7 \\\\\n",
        "    1 & 9 \\\\\n",
        "    1 & 1 \\\\\n",
        "  \\end{bmatrix}\n",
        "$. Após isso, imprima as duas matrizes."
      ]
    },
    {
      "cell_type": "code",
      "execution_count": null,
      "metadata": {
        "id": "H--MePl9NPoU",
        "outputId": "74fb0d65-1b75-4452-e5c8-bed5ecbe6b6f"
      },
      "outputs": [
        {
          "name": "stdout",
          "output_type": "stream",
          "text": [
            "ExA:\n"
          ]
        },
        {
          "data": {
            "text/plain": [
              "array([[12,  9,  4,  1],\n",
              "       [11,  5,  8,  1],\n",
              "       [ 1,  2,  3,  1]])"
            ]
          },
          "metadata": {},
          "output_type": "display_data"
        },
        {
          "name": "stdout",
          "output_type": "stream",
          "text": [
            "ExB:\n"
          ]
        },
        {
          "data": {
            "text/plain": [
              "array([[1, 5],\n",
              "       [1, 7],\n",
              "       [2, 9],\n",
              "       [1, 1]])"
            ]
          },
          "metadata": {},
          "output_type": "display_data"
        }
      ],
      "source": [
        "################# ESCREVA SEU CÓDIGO AQUI  ###############################\n",
        "\n",
        "\n",
        "\n",
        "##########################################################################"
      ]
    },
    {
      "cell_type": "markdown",
      "metadata": {
        "id": "STUnRB1hNPoX"
      },
      "source": [
        "**Ex. 2**. Crie uma matriz $ExC$ usando a seguinte operação: $ExC = ExA \\cdot ExB$. Depois, imprima $ExC$. "
      ]
    },
    {
      "cell_type": "code",
      "execution_count": null,
      "metadata": {
        "id": "hEbrxEVXNPoX",
        "outputId": "e1b33a7e-a42e-41c6-b0db-724be364df58"
      },
      "outputs": [
        {
          "name": "stdout",
          "output_type": "stream",
          "text": [
            "ExC:\n"
          ]
        },
        {
          "data": {
            "text/plain": [
              "array([[ 30, 160],\n",
              "       [ 33, 163],\n",
              "       [ 10,  47]])"
            ]
          },
          "metadata": {},
          "output_type": "display_data"
        }
      ],
      "source": [
        "################# ESCREVA SEU CÓDIGO AQUI  ###############################\n",
        "\n",
        "\n",
        "\n",
        "##########################################################################"
      ]
    },
    {
      "cell_type": "markdown",
      "metadata": {
        "id": "J4PX_4pFNPoY"
      },
      "source": [
        "**Ex. 3**. Crie uma função que retorne a média e o desvio padrão das linhas de uma matriz e a média e desvio padrão das colunas de uma matriz. Depois teste sua função com a matriz $ExC$."
      ]
    },
    {
      "cell_type": "code",
      "execution_count": null,
      "metadata": {
        "id": "TnWrhu3gNPoZ",
        "outputId": "ce3efefb-3839-49c1-b9b8-da0e3cf784f1"
      },
      "outputs": [
        {
          "name": "stdout",
          "output_type": "stream",
          "text": [
            "Medias linhas:  [95.  98.  28.5]\n",
            "Medias colunas:  [ 24.33333333 123.33333333]\n",
            "Desvio padrão linhas:  [91.92388155 91.92388155 26.1629509 ]\n",
            "Desvio padrão colunas:  [12.50333289 66.1236216 ]\n"
          ]
        }
      ],
      "source": [
        "################# ESCREVA SEU CÓDIGO AQUI  ###############################\n",
        "\n",
        "\n",
        "\n",
        "##########################################################################"
      ]
    },
    {
      "cell_type": "markdown",
      "metadata": {
        "id": "x2c75XCWNPoZ"
      },
      "source": [
        "**Ex. 4**. Crie uma matriz $ExD$ com os valores das duas últimas colunas de $ExA$. Depois, calcule a média dos valores de $ExD$."
      ]
    },
    {
      "cell_type": "code",
      "execution_count": null,
      "metadata": {
        "id": "Vayei7ExNPoa",
        "outputId": "9ea60c8c-b730-44cd-b040-81ffaffe7c2d"
      },
      "outputs": [
        {
          "name": "stdout",
          "output_type": "stream",
          "text": [
            "[[4 1]\n",
            " [8 1]\n",
            " [3 1]]\n",
            "3.0\n"
          ]
        }
      ],
      "source": [
        "################# ESCREVA SEU CÓDIGO AQUI  ###############################\n",
        "\n",
        "\n",
        "\n",
        "##########################################################################"
      ]
    },
    {
      "cell_type": "markdown",
      "metadata": {
        "id": "M-Z-w4rPNPob"
      },
      "source": [
        "**Ex. 5**. Crie uma matriz $ExE$ com os valores das linhas 1 e 2 e das colunas 1 e 2 de $ExA$."
      ]
    },
    {
      "cell_type": "code",
      "execution_count": null,
      "metadata": {
        "id": "34_ojq6MNPob",
        "outputId": "f743a248-66ca-45c5-b2ed-9abebb7cbcf5"
      },
      "outputs": [
        {
          "name": "stdout",
          "output_type": "stream",
          "text": [
            "[[5 8]\n",
            " [2 3]]\n"
          ]
        }
      ],
      "source": [
        "################# ESCREVA SEU CÓDIGO AQUI  ###############################\n",
        "\n",
        "\n",
        "\n",
        "##########################################################################"
      ]
    },
    {
      "cell_type": "markdown",
      "metadata": {
        "id": "fK4F24fINPoc"
      },
      "source": [
        "**Ex. 6**. Crie e imprima uma matriz $ExF$ com 5 linhas e 2 colunas e todos os valores iguais a 0."
      ]
    },
    {
      "cell_type": "code",
      "execution_count": null,
      "metadata": {
        "id": "NWVIyV4HNPod",
        "outputId": "808e25d8-bd94-4571-98cf-de210874482c"
      },
      "outputs": [
        {
          "name": "stdout",
          "output_type": "stream",
          "text": [
            "[[0. 0.]\n",
            " [0. 0.]\n",
            " [0. 0.]\n",
            " [0. 0.]\n",
            " [0. 0.]]\n"
          ]
        }
      ],
      "source": [
        "################# ESCREVA SEU CÓDIGO AQUI  ###############################\n",
        "\n",
        "\n",
        "\n",
        "##########################################################################"
      ]
    },
    {
      "cell_type": "markdown",
      "metadata": {
        "id": "_isGTdODNPoe"
      },
      "source": [
        "**Ex. 7**. Crie e imprima uma matriz $ExG$ com 4 linhas e 3 colunas e todos os valores iguais a 1."
      ]
    },
    {
      "cell_type": "code",
      "execution_count": null,
      "metadata": {
        "id": "6RGLOW9MNPoe",
        "outputId": "8c1fb71b-32af-48ab-fea9-0f9f0abf12a5"
      },
      "outputs": [
        {
          "name": "stdout",
          "output_type": "stream",
          "text": [
            "[[1. 1. 1.]\n",
            " [1. 1. 1.]\n",
            " [1. 1. 1.]\n",
            " [1. 1. 1.]]\n"
          ]
        }
      ],
      "source": [
        "################# ESCREVA SEU CÓDIGO AQUI  ###############################\n",
        "\n",
        "\n",
        "\n",
        "##########################################################################"
      ]
    },
    {
      "cell_type": "markdown",
      "metadata": {
        "id": "rd4xAblVNPof"
      },
      "source": [
        "**Ex. 8**. Crie uma função que retorne o fatorial de um número. Teste a função que você criou, calculando o fatorial de 8. \n",
        "\n",
        "Fórmula do fatorial: $n! = (1 * 2 * 3 * ... * (n-2) * (n-1) * n)$\n",
        "\n",
        "Obs: é obrigatório usar um laço `for`. \n",
        "\n",
        "Exemplos: \n",
        "* $1! = 1$\n",
        "* $2! = 1*2$\n",
        "* $3! = 1*2*3$\n",
        "* $4! = 1*2*3*4$\n",
        "* $5! = 1*2*3*4*5$"
      ]
    },
    {
      "cell_type": "code",
      "execution_count": null,
      "metadata": {
        "id": "2cIQ1hYGNPof"
      },
      "outputs": [],
      "source": []
    }
  ],
  "metadata": {
    "kernelspec": {
      "display_name": "Python 3 (ipykernel)",
      "language": "python",
      "name": "python3"
    },
    "language_info": {
      "codemirror_mode": {
        "name": "ipython",
        "version": 3
      },
      "file_extension": ".py",
      "mimetype": "text/x-python",
      "name": "python",
      "nbconvert_exporter": "python",
      "pygments_lexer": "ipython3",
      "version": "3.9.13"
    },
    "vscode": {
      "interpreter": {
        "hash": "d8d3ff3e2b5334ad4397068f2512301b7247a0268b8f631cb00f1cdcbb1f6f82"
      }
    },
    "colab": {
      "provenance": []
    }
  },
  "nbformat": 4,
  "nbformat_minor": 0
}